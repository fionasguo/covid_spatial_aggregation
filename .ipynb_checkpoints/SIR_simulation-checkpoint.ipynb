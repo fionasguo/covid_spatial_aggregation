{
 "cells": [
  {
   "cell_type": "markdown",
   "metadata": {},
   "source": [
    "# Simulations - aggregating SIR models to see if there's bias"
   ]
  },
  {
   "cell_type": "code",
   "execution_count": null,
   "metadata": {},
   "outputs": [],
   "source": [
    "import pandas as pd\n",
    "import numpy as np\n",
    "import matplotlib.pyplot as plt\n",
    "import seaborn as sns\n",
    "from datetime import timedelta,datetime\n",
    "import statsmodels.api as sm\n",
    "import statsmodels.formula.api as smf\n",
    "from patsy import dmatrices\n",
    "import scipy.stats as ss\n",
    "import json\n",
    "\n",
    "import warnings\n",
    "warnings.filterwarnings(\"ignore\")"
   ]
  },
  {
   "cell_type": "code",
   "execution_count": null,
   "metadata": {},
   "outputs": [],
   "source": [
    "# import data\n",
    "c_cumsum = pd.read_csv(\"county_state_data/county_cases_per_100k.csv\")\n",
    "c_cumsum[\"county\"] = (c_cumsum[\"state\"] + \" \" + c_cumsum[\"county\"].str.lower())\n",
    "\n",
    "# population\n",
    "popu = c_cumsum[[\"state\",\"county\",\"pop_2019\"]]\n",
    "popu.drop_duplicates(inplace=True)\n",
    "popu.reset_index(drop=True)"
   ]
  },
  {
   "cell_type": "code",
   "execution_count": null,
   "metadata": {},
   "outputs": [],
   "source": [
    "c_cumsum"
   ]
  },
  {
   "cell_type": "code",
   "execution_count": null,
   "metadata": {},
   "outputs": [],
   "source": [
    "# SIR Model\n",
    "class SIR:\n",
    "    def __init__(self, eons=1000, Susceptible=950, Infected=50, Resistant=0, rateSI=0.05, rateIR=0.01):\n",
    "        self.eons = eons\n",
    "        self.Susceptible = Susceptible\n",
    "        self.Infected = Infected\n",
    "        self.Resistant = Resistant\n",
    "        self.rateSI = rateSI\n",
    "        self.rateIR = rateIR\n",
    "        self.numIndividuals = Susceptible + Infected + Resistant\n",
    "        self.results = None\n",
    "        self.modelRun = False\n",
    "\n",
    "    def run(self):\n",
    "        Susceptible = [self.Susceptible]\n",
    "        Infected = [self.Infected]\n",
    "        Resistant = [self.Resistant]\n",
    "\n",
    "        for step in range(1, self.eons):\n",
    "            S_to_I = (self.rateSI * Susceptible[-1] * Infected[-1]) / self.numIndividuals\n",
    "            I_to_R = Infected[-1] * self.rateIR\n",
    "            Susceptible.append(Susceptible[-1] - S_to_I)\n",
    "            Infected.append(Infected[-1] + S_to_I - I_to_R)\n",
    "            Resistant.append(Resistant[-1] + I_to_R)\n",
    "\n",
    "        self.results = pd.DataFrame.from_dict({'Time':list(range(len(Susceptible))),\n",
    "            'Susceptible':Susceptible, 'Infected':Infected, 'Resistant':Resistant},\n",
    "            orient='index').transpose()\n",
    "        self.modelRun = True\n",
    "        return self.results\n",
    "\n",
    "    def plot(self):\n",
    "        if self.modelRun == False:\n",
    "            print('Error: Model has not run. Please call SIR.run()')\n",
    "            return\n",
    "        plt.plot(self.results['Time'], self.results['Susceptible'], color='blue')\n",
    "        plt.plot(self.results['Time'], self.results['Infected'], color='red')\n",
    "        plt.plot(self.results['Time'], self.results['Resistant'], color='green')\n",
    "        plt.xlabel('Time')\n",
    "        plt.ylabel('Population')\n",
    "        plt.legend(['Susceptible','Infected','Resistant'], prop={'size': 10}, loc='upper center', bbox_to_anchor=(0.5, 1.02), ncol=3, fancybox=True, shadow=True)\n",
    "        plt.title(r'$\\beta = {0}, \\gamma = {1}$'.format(self.rateSI, self.rateIR))\n",
    "        # plt.savefig('test.png')\n",
    "        plt.show()\n"
   ]
  },
  {
   "cell_type": "code",
   "execution_count": null,
   "metadata": {},
   "outputs": [],
   "source": [
    "# number of infected at day 3 after its arrival date\n",
    "county_lst = pd.unique(c_cumsum[\"county\"])\n",
    "i0=[]\n",
    "for c in county_lst:\n",
    "    temp = c_cumsum[c_cumsum[\"county\"]==c]\n",
    "    try:\n",
    "        i0.append(temp.iloc[2,3])\n",
    "    except:\n",
    "        i0.append(1)"
   ]
  },
  {
   "cell_type": "code",
   "execution_count": null,
   "metadata": {},
   "outputs": [],
   "source": [
    "# create simulations using US county data\n",
    "\n",
    "# set up parameters\n",
    "eons = 100 # duration 100 days\n",
    "# total number is the population of each county, number of susceptible at time 0 is N-i0\n",
    "s0 = popu[\"pop_2019\"].values - i0\n",
    "# rateSI and rateIR are modeled as a gaussian \n",
    "rSI = np.random.normal(loc=0.14,scale=0.03,size=len(s0))\n",
    "rIR = np.random.normal(loc=0.02,scale=0.005,size=len(s0))"
   ]
  },
  {
   "cell_type": "code",
   "execution_count": null,
   "metadata": {
    "scrolled": true
   },
   "outputs": [],
   "source": [
    "simulations = {}\n",
    "for i in range(len(s0)):\n",
    "    model = SIR(eons=eons, Susceptible=s0[i], Infected=i0[i], Resistant=0, rateSI=rSI[i], rateIR=rIR[i])\n",
    "    out = model.run()\n",
    "    out[\"di_cases\"] = out[\"Infected\"].diff()\n",
    "    out = out[1:].reset_index(drop=True)\n",
    "    out.rename(columns={\"Time\":\"diff_time\"},inplace=True)\n",
    "    simulations[i] = out\n",
    "    model.plot()"
   ]
  },
  {
   "cell_type": "code",
   "execution_count": null,
   "metadata": {},
   "outputs": [],
   "source": [
    "# estimate the growth rates and the aggregated growth rate\n",
    "simulations[0]"
   ]
  },
  {
   "cell_type": "code",
   "execution_count": null,
   "metadata": {},
   "outputs": [],
   "source": [
    "def pseudoR2(model,mode = \"CU\"):\n",
    "    # input: model: a GLM poisson or NB model\n",
    "    #        mode: \"CU\" = Nagelkerke / Cragg & Uhler’s; \"McFadden\"; \"ML\" = Maximum Likelihood (Cox & Snell)\n",
    "    L_f = model.llf # log-likelihood of full model\n",
    "    L_i = model.llnull # log-likelihood of intercept\n",
    "    N = model.nobs # number of data points\n",
    "    \n",
    "    r2McFadden = 1 - L_f/L_i\n",
    "    G2 = -2 * (L_i - L_f)\n",
    "    r2ML = 1 - np.exp(-G2/N)\n",
    "    r2ML_max = 1 - np.exp(L_i * 2/N)\n",
    "    r2CU = r2ML/r2ML_max\n",
    "    if mode == \"CU\":\n",
    "        r2 = r2CU\n",
    "    if mode == \"McFadden\":\n",
    "        r2 = r2McFadden\n",
    "    if mode == \"ML\":\n",
    "        r2 = r2ML\n",
    "    if np.isnan(r2):\n",
    "        r2 = 0\n",
    "    return r2\n"
   ]
  },
  {
   "cell_type": "code",
   "execution_count": null,
   "metadata": {},
   "outputs": [],
   "source": [
    "def growthRate(data,data_type,var,mode,pR2_mode,poisson_chi2_cutoff,exp_cutoff = True):\n",
    "    # input: data - dictionary of pd dataframe or a single pd dataframe\n",
    "    #        data_type = \"dict\" or \"pd_df\"\n",
    "    #        poisson_expr - str\n",
    "    #        var - variable (column name in pd dataframe) to be regressed on. eg \"di_cases\",\"di_deaths\",\"infections\"\n",
    "    #        mode = \"Poisson\" or \"NB\"\n",
    "    #        pR2_mode = \"CU\" or \"McFadden\" or \"ML\"\n",
    "    #        poisson_chi2_cutoff - int, if chi2 larger than this, discard this data\n",
    "    \n",
    "    # initiate statistics to be recorded\n",
    "    stats = {}\n",
    "    stats[\"outlier\"] = 0\n",
    "    stats[\"fail_poisson\"] = 0\n",
    "    stats[\"poisson_insig\"] = 0\n",
    "    stats[\"nb_insig\"] = 0\n",
    "    stats[\"high_poisson_chi2\"] = 0\n",
    "    stats[\"poisson_small_p\"] = 0\n",
    "    stats[\"nb_small_p\"] = 0\n",
    "    \n",
    "    poisson_expr = var + \"\"\" ~ diff_time\"\"\"\n",
    "    ols_expr = \"\"\"aux_ols ~ y_lambda - 1\"\"\"\n",
    "    \n",
    "    if data_type == \"pd_df\":\n",
    "        temp_data = data.copy()\n",
    "        data = {}\n",
    "        data[0] = temp_data\n",
    "    \n",
    "    growth_rates = [] \n",
    "    intercepts = []\n",
    "    subregions_used = []\n",
    "    pRsquared = []\n",
    "    std_errs = []\n",
    "    cut_offs = []\n",
    "    tot_infected = []\n",
    "    predictions = {}\n",
    "    \n",
    "    for k,v in data.items():\n",
    "        df = v.copy()\n",
    "        df[\"diff_time\"] = np.linspace(0,len(df)-1,len(df))\n",
    "        Y,X = dmatrices(poisson_expr,df,return_type='dataframe')\n",
    "        total_infect = np.sum(df[var])\n",
    "        # exclude the outliers\n",
    "        if len(df[df[var]!=0]) < 5 or total_infect < 30:\n",
    "            stats[\"outlier\"] += 1\n",
    "            continue\n",
    "        if exp_cutoff:\n",
    "            # cut off upto exp ends using grid search, use the poisson model with best pseudo R^2 \n",
    "            day_cnt = 0\n",
    "            n_infected = 0\n",
    "            pR2 = 0\n",
    "            poisson = None\n",
    "            cut_off = 0\n",
    "            for i in range(len(df[var])):\n",
    "                if df[var][i] != 0:\n",
    "                    day_cnt += 1\n",
    "                    n_infected += df[var][i]\n",
    "                if day_cnt >= 5 and n_infected > 30:\n",
    "                    temp = df[:i+1]\n",
    "                    y,x = dmatrices(poisson_expr,temp,return_type='dataframe')\n",
    "                    try:\n",
    "                        temp_model = sm.GLM(y,x,family=sm.families.Poisson()).fit()\n",
    "                    except:\n",
    "                        stats[\"fail_poisson\"] += 1\n",
    "                        continue\n",
    "                    temp_pR2 = pseudoR2(temp_model,mode=pR2_mode)\n",
    "                    if temp_pR2 > pR2:\n",
    "                        pR2 = temp_pR2\n",
    "                        poisson = temp_model\n",
    "                        cut_off = i\n",
    "        else:\n",
    "            poisson = sm.GLM(Y,X,family=sm.families.Poisson()).fit()\n",
    "            pR2 = pseudoR2(poisson,mode=pR2_mode)\n",
    "            cut_off = len(df)\n",
    "        if pR2 == 0 or poisson == None or cut_off == 0:\n",
    "            stats[\"poisson_insig\"] += 1\n",
    "            continue\n",
    "        # check the significance of poisson regression\n",
    "#         if poisson.pearson_chi2 > poisson_chi2_cutoff: # curves that don't follow exp trend (threshold 210 is inspected by eyes, not sure)\n",
    "#             stats[\"high_poisson_chi2\"] += 1\n",
    "#             print(poisson.pearson_chi2)\n",
    "#             continue\n",
    "        if mode == \"Poisson\":\n",
    "            if pR2 >= 0.3:\n",
    "                final_model = poisson\n",
    "                growth_rate = poisson.params[\"diff_time\"]\n",
    "                intercept = poisson.params[\"Intercept\"]\n",
    "                pRs = pR2\n",
    "                std_err = poisson.bse[\"diff_time\"]\n",
    "            else:\n",
    "                stats[\"poisson_small_p\"] += 1\n",
    "                continue\n",
    "        else:\n",
    "            # continue to Negative binomial\n",
    "            df = df[:cut_off+1]\n",
    "            y,x = dmatrices(poisson_expr,df,return_type='dataframe')\n",
    "            # auxiliary OLS to fit the alpha in NB2\n",
    "            df[\"y_lambda\"] = poisson.mu\n",
    "            df[\"aux_ols\"] = df.apply(lambda x: ((x['di_cases'] - x['y_lambda'])**2 - x['di_cases']) / x['y_lambda'], axis=1)\n",
    "            aux_olsr = smf.ols(ols_expr,df).fit()\n",
    "            try:\n",
    "                nb = sm.GLM(y,x,family=sm.families.NegativeBinomial(alpha=aux_olsr.params[0])).fit()\n",
    "                nb_pR2 = pseudoR2(nb,mode=pR2_mode)\n",
    "                if nb_pR2 >= 0:\n",
    "                    final_model = nb\n",
    "                    growth_rate = nb.params[\"diff_time\"]\n",
    "                    intercept = nb.params[\"Intercept\"]\n",
    "                    pRs = nb_pR2\n",
    "                    std_err = nb.bse[\"diff_time\"]\n",
    "                    nobs = len(y)\n",
    "                else:\n",
    "                    stats[\"nb_small_p\"] += 1\n",
    "                    continue\n",
    "            except:\n",
    "                stats[\"nb_insig\"] += 1\n",
    "                # use poisson result\n",
    "                if pR2 >= 0.3:\n",
    "                    final_model = poisson\n",
    "                    growth_rate = poisson.params[\"diff_time\"]\n",
    "                    intercept = poisson.params[\"Intercept\"]\n",
    "                    pRs = pR2\n",
    "                    std_err = poisson.bse[\"diff_time\"]\n",
    "                else:\n",
    "                    stats[\"poisson_small_p\"] += 1\n",
    "                    continue\n",
    "            \n",
    "        growth_rates.append(growth_rate)\n",
    "        intercepts.append(intercept)\n",
    "        subregions_used.append(k)\n",
    "        pRsquared.append(pRs)\n",
    "        std_errs.append(std_err)\n",
    "        cut_offs.append(cut_off)\n",
    "        tot_infected.append(total_infect)\n",
    "        predictions[k] = final_model.predict(X)\n",
    "        \n",
    "    results = pd.DataFrame({\"Growth Rate\":growth_rates,\"intercepts\":intercepts,\"pR2\":pRsquared,\"std_error\":std_errs,\"cut_offs\":cut_offs,\"tot_infected\":tot_infected,'nobs':nobs},index=subregions_used)\n",
    "    return [results,predictions,stats]"
   ]
  },
  {
   "cell_type": "code",
   "execution_count": null,
   "metadata": {},
   "outputs": [],
   "source": [
    "sim_growth_rate,sim_pred,sim_stats = growthRate(simulations,\"dict\",\"di_cases\",\"NB\",\"McFadden\",500)"
   ]
  },
  {
   "cell_type": "code",
   "execution_count": null,
   "metadata": {},
   "outputs": [],
   "source": [
    "sim_growth_rate.to_csv('SIR_sim_growth_rates.csv')"
   ]
  },
  {
   "cell_type": "code",
   "execution_count": null,
   "metadata": {},
   "outputs": [],
   "source": [
    "sim_growth_rate[375:380]"
   ]
  },
  {
   "cell_type": "code",
   "execution_count": null,
   "metadata": {},
   "outputs": [],
   "source": [
    " for i in range(len(s0)):\n",
    "    plt.figure()\n",
    "    plt.title(i)\n",
    "    plt.plot(simulations[i][\"di_cases\"],label=\"sim\")\n",
    "    plt.axvline(sim_growth_rate.loc[i,\"cut_offs\"],color=\"black\")\n",
    "    plt.plot(sim_pred[i],label=\"fitted\")\n",
    "    plt.legend()"
   ]
  },
  {
   "cell_type": "code",
   "execution_count": null,
   "metadata": {},
   "outputs": [],
   "source": [
    "# aggregate\n",
    "aggregations = {}\n",
    "for i in range(50):\n",
    "    agg = pd.DataFrame({\"diff_time\":simulations[0][\"diff_time\"],\"Infected\":np.zeros(len(simulations[0]))})\n",
    "    for j in range(i*56,(i+1)*56):\n",
    "        agg[\"Infected\"] += simulations[j][\"Infected\"]\n",
    "    agg[\"di_cases\"] = agg[\"Infected\"].diff()\n",
    "    agg = agg[1:].reset_index(drop=True)\n",
    "    aggregations[i] = agg\n",
    "print(len(aggregations))\n",
    "print(aggregations[0])"
   ]
  },
  {
   "cell_type": "code",
   "execution_count": null,
   "metadata": {},
   "outputs": [],
   "source": [
    "# growth rate\n",
    "agg_growth_rate,agg_pred,agg_stats = growthRate(aggregations,\"dict\",\"di_cases\",\"NB\",\"McFadden\",500)"
   ]
  },
  {
   "cell_type": "code",
   "execution_count": null,
   "metadata": {
    "scrolled": true
   },
   "outputs": [],
   "source": [
    "agg_growth_rate"
   ]
  },
  {
   "cell_type": "code",
   "execution_count": null,
   "metadata": {},
   "outputs": [],
   "source": [
    "agg_growth_rate.to_csv('SIR_sim_agg_growth_rates.csv')"
   ]
  },
  {
   "cell_type": "code",
   "execution_count": null,
   "metadata": {},
   "outputs": [],
   "source": [
    "aggregations"
   ]
  },
  {
   "cell_type": "code",
   "execution_count": null,
   "metadata": {},
   "outputs": [],
   "source": [
    "agg_nation = pd.DataFrame({\"diff_time\":aggregations[0][\"diff_time\"],\"Infected\":np.zeros(len(aggregations[0]))})\n",
    "for i in range(1,len(aggregations)):\n",
    "    agg_nation[\"Infected\"] += aggregations[i][\"Infected\"]\n",
    "agg_nation[\"di_cases\"] = agg_nation[\"Infected\"].diff()\n",
    "agg_nation = agg_nation[1:].reset_index(drop=True)\n",
    "agg_nation"
   ]
  },
  {
   "cell_type": "code",
   "execution_count": null,
   "metadata": {},
   "outputs": [],
   "source": [
    "agg_nation_growth_rate,agg_nation_pred,agg_nation_stats = growthRate(agg_nation,\"pd_df\",\"di_cases\",\"NB\",\"McFadden\",500)\n",
    "agg_nation_growth_rate"
   ]
  },
  {
   "cell_type": "code",
   "execution_count": null,
   "metadata": {},
   "outputs": [],
   "source": [
    "agg_nation_growth_rate.to_csv('SIR_sim_agg_nation_growth_rates.csv')"
   ]
  },
  {
   "cell_type": "code",
   "execution_count": null,
   "metadata": {},
   "outputs": [],
   "source": [
    "print(len(y))"
   ]
  },
  {
   "cell_type": "code",
   "execution_count": null,
   "metadata": {},
   "outputs": [],
   "source": [
    "# Infected\n",
    "# Figure 1(d)\n",
    "fig = plt.figure(figsize=[6.5,6.5])\n",
    "\n",
    "p_c = sns.distplot(sim_growth_rate[\"Growth Rate\"],hist=False, kde=True, \n",
    "             bins=40, color = \"palevioletred\",\n",
    "             kde_kws={'linewidth': 2,\"shade\": True},label = \"Sim counties\")\n",
    "p_s = sns.distplot(agg_growth_rate[\"Growth Rate\"], hist=False,kde=True, \n",
    "             bins=40, color = \"darkslateblue\",\n",
    "             kde_kws={'linewidth': 2,\"shade\": True},label = \"Sim states\")\n",
    "p_n = plt.axvline(x=agg_nation_growth_rate.loc[0,\"Growth Rate\"],color=\"black\",label=\"Sim nation\")\n",
    "plt.legend(fontsize=20)\n",
    "plt.xlabel(\"Infection Growth Rate\",fontname=\"Arial\", fontsize=25)\n",
    "plt.ylabel(\"PDF\",fontname=\"Arial\", fontsize=25)\n",
    "plt.xlim((0.028,0.27))\n",
    "plt.locator_params(axis='x', nbins=5)\n",
    "plt.xticks(fontsize=25)\n",
    "plt.yticks(fontsize=25)\n",
    "plt.tight_layout()"
   ]
  },
  {
   "cell_type": "code",
   "execution_count": null,
   "metadata": {},
   "outputs": [],
   "source": []
  },
  {
   "cell_type": "code",
   "execution_count": null,
   "metadata": {},
   "outputs": [],
   "source": []
  }
 ],
 "metadata": {
  "kernelspec": {
   "display_name": "Python 3",
   "language": "python",
   "name": "python3"
  },
  "language_info": {
   "codemirror_mode": {
    "name": "ipython",
    "version": 3
   },
   "file_extension": ".py",
   "mimetype": "text/x-python",
   "name": "python",
   "nbconvert_exporter": "python",
   "pygments_lexer": "ipython3",
   "version": "3.7.8"
  },
  "toc": {
   "base_numbering": 1,
   "nav_menu": {},
   "number_sections": true,
   "sideBar": true,
   "skip_h1_title": false,
   "title_cell": "Table of Contents",
   "title_sidebar": "Contents",
   "toc_cell": false,
   "toc_position": {},
   "toc_section_display": true,
   "toc_window_display": false
  }
 },
 "nbformat": 4,
 "nbformat_minor": 4
}
